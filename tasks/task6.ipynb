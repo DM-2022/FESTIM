{
 "cells": [
  {
   "cell_type": "markdown",
   "metadata": {},
   "source": [
    "# Heat transfer simulation"
   ]
  },
  {
   "cell_type": "code",
   "execution_count": 1,
   "metadata": {},
   "outputs": [],
   "source": [
    "import festim as F\n",
    "import numpy as np\n",
    "\n",
    "my_model = F.Simulation()\n",
    "\n",
    "my_model.mesh = F.MeshFromVertices(\n",
    "    vertices=np.linspace(0, 1, num=1000)\n",
    ")\n",
    "\n",
    "my_model.materials = F.Material(id=1, D_0=1, E_D=0.2, thermal_cond=2)\n",
    "\n",
    "\n",
    "my_model.boundary_conditions = [\n",
    "    F.DirichletBC(\n",
    "        surfaces=[1, 2],\n",
    "        value=1,\n",
    "        field=0\n",
    "        )\n",
    "]\n",
    "\n",
    "my_model.settings = F.Settings(\n",
    "    absolute_tolerance=1e-10,\n",
    "    relative_tolerance=1e-10,\n",
    "    transient=False\n",
    "    )"
   ]
  },
  {
   "cell_type": "markdown",
   "metadata": {},
   "source": [
    "The boundary conditions of our heat transfer problem are:\n",
    "\n",
    "$ T = 300 $    on the left surface\n",
    "\n",
    "$-\\lambda \\nabla T \\cdot n = h (T - T_\\mathrm{ext})$   on the right surface\n",
    "\n",
    "We will also set a volumetric heat source."
   ]
  },
  {
   "cell_type": "code",
   "execution_count": 2,
   "metadata": {},
   "outputs": [],
   "source": [
    "my_model.T = F.HeatTransferProblem(transient=False)\n",
    "\n",
    "\n",
    "my_model.boundary_conditions += [\n",
    "    F.DirichletBC(surfaces=1, value=300, field=\"T\"),\n",
    "    F.ConvectiveFlux(h_coeff=1, T_ext=650, surfaces=2)\n",
    "    ]\n",
    "\n",
    "\n",
    "my_model.sources = [F.Source(value=1000, volume=1, field=\"T\")]"
   ]
  },
  {
   "cell_type": "code",
   "execution_count": 3,
   "metadata": {},
   "outputs": [
    {
     "name": "stdout",
     "output_type": "stream",
     "text": [
      "Defining variational problem heat transfers\n",
      "Solving stationary heat equation\n",
      "Defining initial values\n",
      "Defining variational problem\n",
      "Defining source terms\n",
      "Defining boundary conditions\n",
      "Solving steady state problem...\n",
      "coucou\n",
      "Solved problem in 0.00 s\n"
     ]
    },
    {
     "data": {
      "text/plain": [
       "[<matplotlib.lines.Line2D at 0x7fc9e6f0bf98>]"
      ]
     },
     "execution_count": 3,
     "metadata": {},
     "output_type": "execute_result"
    },
    {
     "data": {
      "image/png": "[encoded data removed]",
      "text/plain": [
       "<Figure size 432x288 with 1 Axes>"
      ]
     },
     "metadata": {
      "needs_background": "light"
     },
     "output_type": "display_data"
    }
   ],
   "source": [
    "my_model.initialise()\n",
    "my_model.run()\n",
    "\n",
    "from fenics import plot\n",
    "\n",
    "plot(my_model.T.T)"
   ]
  }
 ],
 "metadata": {
  "kernelspec": {
   "display_name": "Python 3.6.9 64-bit",
   "language": "python",
   "name": "python3"
  },
  "language_info": {
   "codemirror_mode": {
    "name": "ipython",
    "version": 3
   },
   "file_extension": ".py",
   "mimetype": "text/x-python",
   "name": "python",
   "nbconvert_exporter": "python",
   "pygments_lexer": "ipython3",
   "version": "3.6.9"
  },
  "orig_nbformat": 4,
  "vscode": {
   "interpreter": {
    "hash": "31f2aee4e71d21fbe5cf8b01ff0e069b9275f58929596ceb00d14d90e3e16cd6"
   }
  }
 },
 "nbformat": 4,
 "nbformat_minor": 2
}
