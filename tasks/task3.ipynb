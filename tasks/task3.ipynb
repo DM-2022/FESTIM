{
 "cells": [
  {
   "cell_type": "markdown",
   "metadata": {},
   "source": [
    "# Multi-materials simulation\n",
    "\n",
    "In this demo, we will perform a multi-materials simulation. This will be our problem case.\n",
    "The following FESTIM features will be used:\n",
    "- Multi-materials\n",
    "- Meshing:\n",
    "    - mesh from vertices\n",
    "- Boundary conditions:\n",
    "    - Recombination flux\n",
    "- Exports:\n",
    "    - txt exports\n",
    "    - Flux computations\n",
    "    - Integrations over volumes for inventories calculation\n",
    "- Plotting with matplotlib\n",
    "\n",
    "## 1. Problem definition\n",
    "The domain is a composite slab W/Cu/W as described below:\n",
    " <p align=\"center\">\n",
    "  <img src=\"https://user-images.githubusercontent.com/40028739/104934903-e10d7500-59aa-11eb-9296-17de99140701.jpg\" width=\"40%\">\n",
    "</p>\n",
    "\n",
    "- $\\Omega = [0;1.5\\times10^{-7}]$\n",
    "- $\\Omega_1 = [0;5\\times10^{-8}]$ (W left)\n",
    "- $\\Omega_2 = [5\\times10^{-8};1\\times10^{-7}] $ (Cu)\n",
    "- $\\Omega_3 = [1\\times10^{-7};1.5\\times10^{-7}]$ (W right)\n",
    "- $D(T) = \\begin{cases}\n",
    "    4.1\\times 10^{-7} \\exp{(-0.39/k_B T)}, & \\text{on } \\Omega_1 \\text{ and } \\Omega_3\\\\\n",
    "    1.5\\times 10^{-7} \\exp{(-0.15/k_B T)}, & \\text{on } \\Omega_2\n",
    "    \\end{cases}$\n",
    "- Trap 1 in $\\Omega_2$ and $\\Omega_3$:\n",
    "    - Density: $n_1 = 1.3\\times 10^{-3} \\text{ at.fr.}$\n",
    "    - Trapping rate: $k(T) = 3.8 \\times 10^{-17} \\exp{(-0.39/k_B T)} \\text{ s}^{-1}$\n",
    "    - Detrapping rate: $p(T) = 8.4\\times 10^{12} \\exp{(-1.2/k_B T)} \\text{ s}^{-1}$\n",
    "- Trap 2 in $\\Omega_2$:\n",
    "    - Density: $n_2 = 5\\times10^{-5} \\text{ at.fr.}$\n",
    "    - Trapping rate: $k(T) = 6 \\times 10^{-17} \\exp{(-0.39/k_B T)} \\text{ s}^{-1}$\n",
    "    - Detrapping rate: $p(T) = 8\\times10^{13} \\exp{(-1.0/k_B T)} \\text{ s}^{-1}$\n",
    "\n",
    "\n",
    "A Dirichlet boundary conditions will be imposed on $\\Gamma_\\mathrm{left}$ and a recombination flux is imposed on $\\Gamma_\\mathrm{right}$.\n",
    "\n",
    "- $c_\\mathrm{m} = 10^{20} \\; \\mathrm{m}^{-3} \\quad \\text{on } \\Gamma_\\mathrm{left}$\n",
    "- $-D \\nabla c_\\mathrm{m} \\cdot n = -K c_\\mathrm{m}^2 \\quad \\text{on }\\Gamma_\\mathrm{right}$\n",
    "with $K = 2.9\\times 10^{-14} \\exp{(-1.92/k_B T)} \\; \\mathrm{m}^4 \\mathrm{s}^{-1}$"
   ]
  },
  {
   "cell_type": "markdown",
   "metadata": {},
   "source": [
    "## 2. Implementation\n",
    "The first step is to create a FESTIM Simulation object"
   ]
  },
  {
   "cell_type": "code",
   "execution_count": 1,
   "metadata": {},
   "outputs": [],
   "source": [
    "import festim as F\n",
    "\n",
    "my_model = F.Simulation()"
   ]
  },
  {
   "cell_type": "code",
   "execution_count": 2,
   "metadata": {},
   "outputs": [],
   "source": [
    "tungsten_left = F.Material(\n",
    "    id=1,\n",
    "    D_0=4.1e-7,\n",
    "    E_D=0.39,\n",
    "    S_0=1.87e24,\n",
    "    E_S=1.04,\n",
    "    borders=[0, 0.5e-7]\n",
    "    )\n",
    "\n",
    "copper = F.Material(\n",
    "    id=2,\n",
    "    D_0=1.5e-7,\n",
    "    E_D=0.15,\n",
    "    S_0=3.14e24,\n",
    "    E_S=0.57,\n",
    "    borders=[0.5e-7, 1e-7]\n",
    "    )\n",
    "\n",
    "tungsten_right = F.Material(\n",
    "    id=3,\n",
    "    D_0=4.1e-7,\n",
    "    E_D=0.39,\n",
    "    S_0=1.87e24,\n",
    "    E_S=1.04,\n",
    "    borders=[1e-7, 1.5e-7]\n",
    "    )\n",
    "\n",
    "my_model.materials = [tungsten_left, copper, tungsten_right]"
   ]
  },
  {
   "cell_type": "code",
   "execution_count": 3,
   "metadata": {},
   "outputs": [],
   "source": [
    "import numpy as np\n",
    "\n",
    "vertices = np.concatenate(\n",
    "        [np.linspace(0, 0.5e-7, num=200),\n",
    "        np.linspace(0.5e-7, 1e-7, num=100),\n",
    "        np.linspace(1e-7, 1.5e-7, num=200)])\n",
    "\n",
    "my_model.mesh = F.MeshFromVertices(vertices)"
   ]
  },
  {
   "cell_type": "code",
   "execution_count": 4,
   "metadata": {},
   "outputs": [],
   "source": [
    "tungsten_density = 6.3e28\n",
    "\n",
    "trap_tungsten = F.Trap(\n",
    "    k_0=3.8e-17,\n",
    "    E_k=0.39,\n",
    "    p_0=8.4e12,\n",
    "    E_p=1.2,\n",
    "    density=1.3e-3*tungsten_density,\n",
    "    materials=[tungsten_left, tungsten_right]\n",
    ")\n",
    "\n",
    "copper_density = 8.43e28\n",
    "\n",
    "trap_copper = F.Trap(\n",
    "    k_0=6e-17,\n",
    "    E_k=0.39,\n",
    "    p_0=8e13,\n",
    "    E_p=0.9,\n",
    "    density=5e-5*copper_density,\n",
    "    materials=[copper]\n",
    ")\n",
    "\n",
    "my_model.traps = F.Traps([trap_tungsten, trap_copper])"
   ]
  },
  {
   "cell_type": "code",
   "execution_count": 5,
   "metadata": {},
   "outputs": [],
   "source": [
    "my_model.T = F.Temperature(320)"
   ]
  },
  {
   "cell_type": "code",
   "execution_count": 6,
   "metadata": {},
   "outputs": [],
   "source": [
    "left_bc = F.DirichletBC(\n",
    "    surfaces=1,\n",
    "    value=1e20\n",
    "    )\n",
    "\n",
    "right_bc = F.RecombinationFlux(\n",
    "    surfaces=2,\n",
    "    Kr_0=2.9e-10,\n",
    "    E_Kr=1,\n",
    "    order=2\n",
    "    )\n",
    "\n",
    "my_model.boundary_conditions = [left_bc, right_bc]"
   ]
  },
  {
   "cell_type": "code",
   "execution_count": 7,
   "metadata": {},
   "outputs": [],
   "source": [
    "folder = 'outputs'\n",
    "\n",
    "derived_quantities = F.DerivedQuantities(filename=\"{}/derived_quantities.csv\".format(folder))\n",
    "derived_quantities.derived_quantities = [\n",
    "    F.TotalVolume(field=\"retention\", volume=1),\n",
    "    F.TotalVolume(field=\"retention\", volume=2),\n",
    "    F.TotalVolume(field=\"retention\", volume=3),\n",
    "    F.TotalVolume(field=\"1\", volume=1),\n",
    "    F.TotalVolume(field=\"1\", volume=3),\n",
    "    F.TotalVolume(field=\"2\", volume=2),\n",
    "    F.SurfaceFlux(field=\"solute\", surface=1),\n",
    "    F.SurfaceFlux(field=\"solute\", surface=2),\n",
    "]\n",
    "\n",
    "txt_exports = F.TXTExports(\n",
    "    fields=['1', '2', 'solute', 'retention'],\n",
    "    labels=['trap1', 'trap2', 'mobile', 'retention'],\n",
    "    times=[2000, 17000, 20000],\n",
    "    folder=folder\n",
    "    )\n",
    "\n",
    "my_model.exports = [derived_quantities] + txt_exports.exports"
   ]
  },
  {
   "cell_type": "code",
   "execution_count": 8,
   "metadata": {},
   "outputs": [],
   "source": [
    "my_model.settings = F.Settings(\n",
    "    absolute_tolerance=1e10,\n",
    "    relative_tolerance=1e-09,\n",
    "    final_time=2e4,\n",
    "    chemical_pot=False,\n",
    "    traps_element_type=\"DG\",\n",
    "    maximum_iterations=50\n",
    ")\n",
    "\n",
    "\n",
    "my_model.dt = F.Stepsize(\n",
    "    initial_value=50,\n",
    "    stepsize_change_ratio=1.1,\n",
    "    dt_min=1e-5)"
   ]
  },
  {
   "cell_type": "code",
   "execution_count": 9,
   "metadata": {},
   "outputs": [
    {
     "name": "stdout",
     "output_type": "stream",
     "text": [
      "Defining initial values\n",
      "Defining variational problem\n",
      "Defining source terms\n",
      "Defining boundary conditions\n",
      "Time stepping...\n",
      "100.0 %        2.0e+04 s    Ellapsed time so far: 2.6 s\n"
     ]
    }
   ],
   "source": [
    "my_model.initialise()\n",
    "my_model.run()"
   ]
  },
  {
   "cell_type": "code",
   "execution_count": 18,
   "metadata": {},
   "outputs": [
    {
     "data": {
      "text/plain": [
       "Text(0.5, 0, 'Time (s)')"
      ]
     },
     "execution_count": 18,
     "metadata": {},
     "output_type": "execute_result"
    },
    {
     "data": {
      "image/png": "[encoded data removed]",
      "text/plain": [
       "<Figure size 432x288 with 1 Axes>"
      ]
     },
     "metadata": {
      "needs_background": "light"
     },
     "output_type": "display_data"
    }
   ],
   "source": [
    "import matplotlib.pyplot as plt\n",
    "\n",
    "t = derived_quantities.t\n",
    "ret_cu = derived_quantities.filter(volumes=copper.id, fields=\"retention\").data\n",
    "ret_w_left = derived_quantities.filter(volumes=tungsten_left.id, fields=\"retention\").data\n",
    "ret_w_right = derived_quantities.filter(volumes=tungsten_right.id, fields=\"retention\").data\n",
    "\n",
    "total = np.sum([ret_cu, ret_w_left, ret_w_right], axis=0)\n",
    "\n",
    "plt.figure()\n",
    "plt.plot(t, total, label=\"total\")\n",
    "plt.plot(t, ret_w_left, label=\"W left\")\n",
    "plt.plot(t, ret_w_right, label=\"W right\")\n",
    "plt.plot(t, ret_cu, label=\"Cu\")\n",
    "\n",
    "plt.yscale(\"log\")\n",
    "plt.xscale(\"log\")\n",
    "plt.legend()\n",
    "plt.ylabel(\"Inventory (H/m$^2$)\")\n",
    "plt.xlabel(\"Time (s)\")"
   ]
  },
  {
   "cell_type": "code",
   "execution_count": 19,
   "metadata": {},
   "outputs": [
    {
     "data": {
      "text/plain": [
       "Text(0, 0.5, 'solute concentration (H/m$^3$)')"
      ]
     },
     "execution_count": 19,
     "metadata": {},
     "output_type": "execute_result"
    },
    {
     "data": {
      "image/png": "[encoded data removed]",
      "text/plain": [
       "<Figure size 432x288 with 1 Axes>"
      ]
     },
     "metadata": {
      "needs_background": "light"
     },
     "output_type": "display_data"
    }
   ],
   "source": [
    "mobile_1 = np.genfromtxt(folder + '/mobile_2000.0s.txt')\n",
    "mobile_2 = np.genfromtxt(folder + '/mobile_17000.0s.txt')\n",
    "\n",
    "plt.figure()\n",
    "plt.plot(mobile_1[:, 0], mobile_1[:, 1], linestyle=\"--\")\n",
    "plt.plot(mobile_2[:, 0], mobile_2[:, 1], color=\"tab:blue\")\n",
    "plt.yscale(\"log\")\n",
    "plt.xlabel(\"$x$ (m)\")\n",
    "plt.ylabel(\"solute concentration (H/m$^3$)\")"
   ]
  },
  {
   "cell_type": "code",
   "execution_count": 20,
   "metadata": {},
   "outputs": [
    {
     "name": "stdout",
     "output_type": "stream",
     "text": [
      "Defining initial values\n",
      "Defining variational problem\n",
      "Defining source terms\n",
      "Defining boundary conditions\n",
      "Time stepping...\n",
      "100.0 %        2.0e+04 s    Ellapsed time so far: 5.7 s\n"
     ]
    }
   ],
   "source": [
    "# tolerance is increased for better convergence\n",
    "\n",
    "my_model.settings.absolute_tolerance = 1e12\n",
    "my_model.settings.chemical_pot = True\n",
    "\n",
    "my_model.initialise()\n",
    "my_model.run()"
   ]
  },
  {
   "cell_type": "code",
   "execution_count": 21,
   "metadata": {},
   "outputs": [
    {
     "data": {
      "text/plain": [
       "<matplotlib.legend.Legend at 0x7fc80c535940>"
      ]
     },
     "execution_count": 21,
     "metadata": {},
     "output_type": "execute_result"
    },
    {
     "data": {
      "image/png": "[encoded data removed]",
      "text/plain": [
       "<Figure size 432x288 with 1 Axes>"
      ]
     },
     "metadata": {
      "needs_background": "light"
     },
     "output_type": "display_data"
    }
   ],
   "source": [
    "solute_1_chemical_potential = np.genfromtxt(folder + '/mobile_2000.0s.txt')\n",
    "solute_2_chemical_potential = np.genfromtxt(folder + '/mobile_17000.0s.txt')\n",
    "\n",
    "plt.figure()\n",
    "plt.plot(solute_1_chemical_potential[:, 0], solute_1_chemical_potential[:, 1], linestyle=\"--\")\n",
    "plt.plot(solute_2_chemical_potential[:, 0], solute_2_chemical_potential[:, 1],\n",
    "         color=\"tab:blue\", label=\"Chemical potential conservation\")\n",
    "\n",
    "plt.yscale(\"log\")\n",
    "plt.xlabel(\"$x$ (m)\")\n",
    "plt.ylabel(\"solute concentration (H/m$^3$)\")\n",
    "plt.legend()"
   ]
  }
 ],
 "metadata": {
  "kernelspec": {
   "display_name": "Python 3.6.9 64-bit",
   "language": "python",
   "name": "python3"
  },
  "language_info": {
   "codemirror_mode": {
    "name": "ipython",
    "version": 3
   },
   "file_extension": ".py",
   "mimetype": "text/x-python",
   "name": "python",
   "nbconvert_exporter": "python",
   "pygments_lexer": "ipython3",
   "version": "3.6.9"
  },
  "orig_nbformat": 4,
  "vscode": {
   "interpreter": {
    "hash": "31f2aee4e71d21fbe5cf8b01ff0e069b9275f58929596ceb00d14d90e3e16cd6"
   }
  }
 },
 "nbformat": 4,
 "nbformat_minor": 2
}
